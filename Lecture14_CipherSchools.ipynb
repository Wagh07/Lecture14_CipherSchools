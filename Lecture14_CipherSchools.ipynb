{
  "nbformat": 4,
  "nbformat_minor": 0,
  "metadata": {
    "colab": {
      "provenance": []
    },
    "kernelspec": {
      "name": "python3",
      "display_name": "Python 3"
    },
    "language_info": {
      "name": "python"
    }
  },
  "cells": [
    {
      "cell_type": "code",
      "source": [
        "# Loops ( while , while..else , for , for..else , break , Continue)\n",
        "\n",
        "\n",
        "''' While '''\n",
        "\n",
        "count=0\n",
        "while(count<3):\n",
        "  print('the count is: ',count)\n",
        "  count+=1\n",
        "print('Goodbye count is: ',count)"
      ],
      "metadata": {
        "colab": {
          "base_uri": "https://localhost:8080/"
        },
        "id": "mq7nNHLAfBR7",
        "outputId": "451c65de-c908-4da4-c653-a50955034e44"
      },
      "execution_count": 35,
      "outputs": [
        {
          "output_type": "stream",
          "name": "stdout",
          "text": [
            "the count is:  0\n",
            "the count is:  1\n",
            "the count is:  2\n",
            "Goodbye count is:  3\n"
          ]
        }
      ]
    },
    {
      "cell_type": "code",
      "source": [
        "\n",
        "''' While..else'''\n",
        "\n",
        "tup=(1,2,3,4,5)\n",
        "prod=1\n",
        "index=0\n",
        "while(index<len(tup)):\n",
        "  prod+=tup(index)\n",
        "  index+=1\n",
        "else:\n",
        "  print('No more no. in tuple.')\n",
        "  print('Product={}'.format(prod))\n",
        "\n"
      ],
      "metadata": {
        "id": "E-bWjv3zf1wk"
      },
      "execution_count": null,
      "outputs": []
    }
  ]
}